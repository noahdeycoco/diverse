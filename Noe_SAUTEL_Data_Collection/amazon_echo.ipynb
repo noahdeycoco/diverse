{
 "cells": [
  {
   "cell_type": "code",
   "execution_count": 4,
   "metadata": {},
   "outputs": [],
   "source": [
    "import pandas as pd\n",
    "import numpy as np"
   ]
  },
  {
   "cell_type": "code",
   "execution_count": 5,
   "metadata": {},
   "outputs": [],
   "source": [
    "# display full url for user_profile for instance\n",
    "pd.set_option('display.max_colwidth', 1000)"
   ]
  },
  {
   "cell_type": "code",
   "execution_count": 6,
   "metadata": {},
   "outputs": [],
   "source": [
    "df = pd.read_csv(\"/Users/noesautel/Downloads/raw_amazon_echo_reviews.csv\")"
   ]
  },
  {
   "cell_type": "code",
   "execution_count": 7,
   "metadata": {},
   "outputs": [
    {
     "data": {
      "text/html": [
       "<div>\n",
       "<style scoped>\n",
       "    .dataframe tbody tr th:only-of-type {\n",
       "        vertical-align: middle;\n",
       "    }\n",
       "\n",
       "    .dataframe tbody tr th {\n",
       "        vertical-align: top;\n",
       "    }\n",
       "\n",
       "    .dataframe thead th {\n",
       "        text-align: right;\n",
       "    }\n",
       "</style>\n",
       "<table border=\"1\" class=\"dataframe\">\n",
       "  <thead>\n",
       "    <tr style=\"text-align: right;\">\n",
       "      <th></th>\n",
       "      <th>user_profile</th>\n",
       "      <th>a-profile-avatar</th>\n",
       "      <th>user_name</th>\n",
       "      <th>original_comment_link</th>\n",
       "      <th>score</th>\n",
       "      <th>title</th>\n",
       "      <th>product_color</th>\n",
       "      <th>a-link-normal href 2</th>\n",
       "      <th>verified_urchase</th>\n",
       "      <th>a-base 3</th>\n",
       "      <th>review-comment-total</th>\n",
       "      <th>a-link-normal</th>\n",
       "      <th>a-link-normal href 3</th>\n",
       "      <th>a-link-normal 2</th>\n",
       "      <th>a-link-normal href 4</th>\n",
       "    </tr>\n",
       "  </thead>\n",
       "  <tbody>\n",
       "    <tr>\n",
       "      <th>0</th>\n",
       "      <td>https://www.amazon.fr/gp/profile/amzn1.account.AEQRMOTTIKZ3AZY42FZZ25O3SSFA/ref=cm_cr_arp_d_gw_btm?ie=UTF8</td>\n",
       "      <td>&lt;img src=\"https://images-eu.ssl-images-amazon.com/images/S/amazon-avatars-global/default._CR0,0,1024,1024_SX48_.png\"&gt;</td>\n",
       "      <td>Pascal GILBERT</td>\n",
       "      <td>https://www.amazon.fr/gp/customer-reviews/R24VBH3FB5FK1C/ref=cm_cr_arp_d_rvw_ttl?ie=UTF8&amp;ASIN=B079PNT5TK</td>\n",
       "      <td>2,0 sur 5 étoiles</td>\n",
       "      <td>Bon, ben c'est Echo 2 quoi...</td>\n",
       "      <td>Couleur: Tissu anthraciteConfiguration: Amazon Echo</td>\n",
       "      <td>https://www.amazon.fr/Amazon-g%C3%A9n%C3%A9ration-Enceinte-connect%C3%A9e-anthracite/product-reviews/B079PNT5TK/ref=cm_cr_arp_d_rvw_rvwer?ie=UTF8&amp;reviewerType=avp_only_reviews</td>\n",
       "      <td>true</td>\n",
       "      <td>355 personnes ont trouvé cela utile</td>\n",
       "      <td>3</td>\n",
       "      <td>Le plus récent</td>\n",
       "      <td>https://www.amazon.fr/Amazon-g%C3%A9n%C3%A9ration-Enceinte-connect%C3%A9e-anthracite/product-reviews/B079PNT5TK/ref=dpx_acr_txt?showViewpoints=1#</td>\n",
       "      <td>Le plus ancien</td>\n",
       "      <td>https://www.amazon.fr/Amazon-g%C3%A9n%C3%A9ration-Enceinte-connect%C3%A9e-anthracite/product-reviews/B079PNT5TK/ref=dpx_acr_txt?showViewpoints=1#</td>\n",
       "    </tr>\n",
       "  </tbody>\n",
       "</table>\n",
       "</div>"
      ],
      "text/plain": [
       "                                                                                                 user_profile  \\\n",
       "0  https://www.amazon.fr/gp/profile/amzn1.account.AEQRMOTTIKZ3AZY42FZZ25O3SSFA/ref=cm_cr_arp_d_gw_btm?ie=UTF8   \n",
       "\n",
       "                                                                                                        a-profile-avatar  \\\n",
       "0  <img src=\"https://images-eu.ssl-images-amazon.com/images/S/amazon-avatars-global/default._CR0,0,1024,1024_SX48_.png\">   \n",
       "\n",
       "        user_name  \\\n",
       "0  Pascal GILBERT   \n",
       "\n",
       "                                                                                      original_comment_link  \\\n",
       "0  https://www.amazon.fr/gp/customer-reviews/R24VBH3FB5FK1C/ref=cm_cr_arp_d_rvw_ttl?ie=UTF8&ASIN=B079PNT5TK   \n",
       "\n",
       "               score                          title  \\\n",
       "0  2,0 sur 5 étoiles  Bon, ben c'est Echo 2 quoi...   \n",
       "\n",
       "                                         product_color  \\\n",
       "0  Couleur: Tissu anthraciteConfiguration: Amazon Echo   \n",
       "\n",
       "                                                                                                                                                              a-link-normal href 2  \\\n",
       "0  https://www.amazon.fr/Amazon-g%C3%A9n%C3%A9ration-Enceinte-connect%C3%A9e-anthracite/product-reviews/B079PNT5TK/ref=cm_cr_arp_d_rvw_rvwer?ie=UTF8&reviewerType=avp_only_reviews   \n",
       "\n",
       "  verified_urchase                             a-base 3  review-comment-total  \\\n",
       "0             true  355 personnes ont trouvé cela utile                     3   \n",
       "\n",
       "    a-link-normal  \\\n",
       "0  Le plus récent   \n",
       "\n",
       "                                                                                                                                a-link-normal href 3  \\\n",
       "0  https://www.amazon.fr/Amazon-g%C3%A9n%C3%A9ration-Enceinte-connect%C3%A9e-anthracite/product-reviews/B079PNT5TK/ref=dpx_acr_txt?showViewpoints=1#   \n",
       "\n",
       "  a-link-normal 2  \\\n",
       "0  Le plus ancien   \n",
       "\n",
       "                                                                                                                                a-link-normal href 4  \n",
       "0  https://www.amazon.fr/Amazon-g%C3%A9n%C3%A9ration-Enceinte-connect%C3%A9e-anthracite/product-reviews/B079PNT5TK/ref=dpx_acr_txt?showViewpoints=1#  "
      ]
     },
     "execution_count": 7,
     "metadata": {},
     "output_type": "execute_result"
    }
   ],
   "source": [
    "df['a-size-mini 3'] = np.where(df['a-size-mini 3']=='Achat vérifié', 'true', 'false')\n",
    "df.rename(index=str, columns={\"a-size-mini 3\": \"verified_urchase\"}).head(1)"
   ]
  },
  {
   "cell_type": "code",
   "execution_count": 8,
   "metadata": {},
   "outputs": [],
   "source": [
    "df = df.rename(index=str, columns={\"title\": \"comment_title\"})\n",
    "df = df.drop(['a-profile-avatar', 'a-link-normal href 2', 'a-link-normal', 'a-link-normal href 3', 'a-link-normal 2', 'a-link-normal href 4'  ], axis= 1)"
   ]
  },
  {
   "cell_type": "code",
   "execution_count": 9,
   "metadata": {},
   "outputs": [
    {
     "name": "stdout",
     "output_type": "stream",
     "text": [
      "(2368, 9)\n",
      "(0, 9)\n"
     ]
    }
   ],
   "source": [
    "df1 = df[df['a-base 3'].apply(lambda x: x.isnumeric())]\n",
    "df1['a-base 3'].unique()\n",
    "print(df.shape)\n",
    "print(df1.shape)"
   ]
  },
  {
   "cell_type": "code",
   "execution_count": 10,
   "metadata": {},
   "outputs": [],
   "source": [
    "# couleur du produit\n",
    "\n",
    "df['product_color'] = df['product_color'].str.replace('Couleur: Tissu ','')\n",
    "df['product_color'] = df['product_color'].str.replace('Configuration: Amazon Echo','')"
   ]
  },
  {
   "cell_type": "code",
   "execution_count": 11,
   "metadata": {},
   "outputs": [],
   "source": [
    "#score du produit\n",
    "\n",
    "df['score_str'] = df['score'].astype(str).str[0] # on recupère la note sans le string \",0 sur 5 étoiles\"\n",
    "df = df.drop(['score'], axis= 1)\n",
    "df['score_str'] = df['score_str'].apply(np.int64)\n",
    "df = df.rename(index=str, columns={\"score_str\": \"product_score\"})"
   ]
  },
  {
   "cell_type": "markdown",
   "metadata": {},
   "source": [
    "La collecte des données concernant le nombre de personne ayant trouvé le commentaire de l'acheteur utile ne sera pas pris en compte. En effet,on se rend compte que plus de 1700 lignes ont été mal extraites avec Instant Data Scraper. Je prends donc la décision de supprimer cette collone. Si elle nous ai réellement utlile, je reprendrai le tempsplus tard d'extraire ces informations correctement."
   ]
  },
  {
   "cell_type": "code",
   "execution_count": 12,
   "metadata": {},
   "outputs": [],
   "source": [
    "#df.groupby('a-base 3').count() # on s'aperçoit du nombre d'erreurs avec \"Signaler un abus\" qui apparait 1778 fois...\n",
    "\n",
    "# Sélectionner uniquement le nombre de personne ayant trouvé le commentaire utile (et donc supprimer le reste de la string)\n",
    "\n",
    "#df['a-base 3'] = df['a-base 3'].str.replace(' personnes ont trouvé cela utile','')\n",
    "#df['a-base 3'] = df['a-base 3'].str.replace('Une personne a trouvé cela utile','1')\n",
    "#df['a-base 3'].unique()\n",
    "#df = df.rename(index=str, columns={\"a-base 3\": \"people_found_comment_helpful\"})\n",
    "#df['people_found_comment_helpful'] = df['people_found_comment_helpful'].apply(np.int64)"
   ]
  },
  {
   "cell_type": "code",
   "execution_count": 15,
   "metadata": {},
   "outputs": [
    {
     "name": "stdout",
     "output_type": "stream",
     "text": [
      "La moyenne du produit est de: 4.04\n"
     ]
    },
    {
     "data": {
      "image/png": "[encoded data removed]",
      "text/plain": [
       "<Figure size 432x288 with 1 Axes>"
      ]
     },
     "metadata": {},
     "output_type": "display_data"
    }
   ],
   "source": [
    "%precision\n",
    "\n",
    "df.hist(column='product_score', bins=19)\n",
    "print(\"La moyenne du produit est de: \"+str(df.product_score.mean().round(2)))"
   ]
  },
  {
   "cell_type": "code",
   "execution_count": 14,
   "metadata": {},
   "outputs": [],
   "source": [
    "df.to_csv('amazon_echo_reviews_cleaned.csv', sep='\\t', encoding='utf-8')"
   ]
  }
 ],
 "metadata": {
  "kernelspec": {
   "display_name": "Python 3",
   "language": "python",
   "name": "python3"
  },
  "language_info": {
   "codemirror_mode": {
    "name": "ipython",
    "version": 3
   },
   "file_extension": ".py",
   "mimetype": "text/x-python",
   "name": "python",
   "nbconvert_exporter": "python",
   "pygments_lexer": "ipython3",
   "version": "3.7.1"
  }
 },
 "nbformat": 4,
 "nbformat_minor": 2
}
